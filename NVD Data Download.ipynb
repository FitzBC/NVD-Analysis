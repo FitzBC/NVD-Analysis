{
 "cells": [
  {
   "cell_type": "code",
   "execution_count": 1,
   "metadata": {},
   "outputs": [
    {
     "name": "stdout",
     "output_type": "stream",
     "text": [
      "nvdcve-1.0-2019.json.zip\n",
      "nvdcve-1.0-2018.json.zip\n",
      "nvdcve-1.0-2017.json.zip\n",
      "nvdcve-1.0-2016.json.zip\n",
      "nvdcve-1.0-2015.json.zip\n",
      "nvdcve-1.0-2014.json.zip\n",
      "nvdcve-1.0-2013.json.zip\n",
      "nvdcve-1.0-2012.json.zip\n",
      "nvdcve-1.0-2011.json.zip\n",
      "nvdcve-1.0-2010.json.zip\n",
      "nvdcve-1.0-2009.json.zip\n",
      "nvdcve-1.0-2008.json.zip\n",
      "nvdcve-1.0-2007.json.zip\n",
      "nvdcve-1.0-2006.json.zip\n",
      "nvdcve-1.0-2005.json.zip\n",
      "nvdcve-1.0-2004.json.zip\n",
      "nvdcve-1.0-2003.json.zip\n",
      "nvdcve-1.0-2002.json.zip\n"
     ]
    }
   ],
   "source": [
    "import requests\n",
    "import re\n",
    "\n",
    "r = requests.get('https://nvd.nist.gov/vuln/data-feeds#JSON_FEED')\n",
    "for filename in re.findall(\"nvdcve-1.0-[0-9]*\\.json\\.zip\",r.text):\n",
    "    print(filename)\n",
    "    r_file = requests.get(\"https://static.nvd.nist.gov/feeds/json/cve/1.0/\" + filename, stream=True)\n",
    "    with open(\"nvd/\" + filename, 'wb') as f:\n",
    "        for chunk in r_file:\n",
    "            f.write(chunk)"
   ]
  },
  {
   "cell_type": "code",
   "execution_count": null,
   "metadata": {},
   "outputs": [],
   "source": [
    "from os import listdir\n",
    "from os.path import isfile, join\n",
    "import zipfile\n",
    "import json\n",
    "\n",
    "files = [f for f in listdir(\"nvd/\") if isfile(join(\"nvd/\", f))]\n",
    "files.sort()\n",
    "for file in files:\n",
    "    archive = zipfile.ZipFile(join(\"nvd/\", file), 'r')\n",
    "    jsonfile = archive.open(archive.namelist()[0])\n",
    "    cve_dict = json.loads(jsonfile.read())\n",
    "    jsonfile.close()"
   ]
  }
 ],
 "metadata": {
  "kernelspec": {
   "display_name": "Python 3",
   "language": "python",
   "name": "python3"
  },
  "language_info": {
   "codemirror_mode": {
    "name": "ipython",
    "version": 3
   },
   "file_extension": ".py",
   "mimetype": "text/x-python",
   "name": "python",
   "nbconvert_exporter": "python",
   "pygments_lexer": "ipython3",
   "version": "3.6.5"
  }
 },
 "nbformat": 4,
 "nbformat_minor": 2
}
